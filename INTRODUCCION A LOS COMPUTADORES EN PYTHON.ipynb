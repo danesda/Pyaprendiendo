{
 "cells": [
  {
   "cell_type": "markdown",
   "metadata": {},
   "source": [
    "# INTRODUCCION A LOS COMPUTADORES EN PYTHON\n",
    "Por Danesda"
   ]
  },
  {
   "cell_type": "markdown",
   "metadata": {},
   "source": [
    "Se usa para poder poner codigo como comentario.... (lo que aparece a continuacion es un ejemplo) primero se ponen tres tildes despues la palabra python y despues se cierra con tres tildes\n",
    "\n",
    "#Debemos asegurarnos que la celda este como Markdown\n",
    "\n",
    "```python\n",
    "from sklearn.datasets import load_iris\n",
    "from sklearn import tree\n",
    "iris = load_iris()\n",
    "clf = tree.DecisionTreeClassifier()\n",
    "clf = clf.fit(iris.data, iris.target)\n",
    "print(clf.predict_proba(iris.data[:1, :]))\n",
    "```\n"
   ]
  },
  {
   "cell_type": "markdown",
   "metadata": {},
   "source": [
    "## Numpy\n",
    "\n",
    "Numpy es un codigo de python cuyo origen se debe  al diseñador de software Jim Hugunin quien diseñó el módulo Numeric para dotar a Python de capacidades de cálculo similares a las de otros softwares como MATLAB. \n",
    "\n",
    "Numpy es el encargado de añadir toda la capacidad matemática y vectorial a Python haciendo posible operar con cualquier dato numérico o array. Incorpora operaciones básicas como la suma o la multiplicación y otras mucho más complejas como la transformada de Fourier o el álgebra lineal. Además incorpora herramientas que nos permiten incorporar código fuente de otros lenguajes de programación como C/C++ o Fortran lo que incrementa notablemente su compatibilidad e implementación.\n",
    "\n",
    "Para poder utilizar este módulo sino hemos instalado python(x,y) lo primero que debemos de hacer es descargarnos la última versión desde el sitio oficial http://www.scipy.org/Download. En caso de que nuestro sistema operativo sea Linux probablemente venga instalado dentro de Python.  Para cargar el módulo en Python y poder llamarlo de formar más cómoda es de uso extendido la utilización del alias np"
   ]
  },
  {
   "cell_type": "markdown",
   "metadata": {},
   "source": [
    "# ESTRUCTURAS DE CONTROL LINEAL"
   ]
  },
  {
   "cell_type": "markdown",
   "metadata": {},
   "source": [
    "## Ejercicio 1."
   ]
  },
  {
   "cell_type": "markdown",
   "metadata": {},
   "source": [
    "Hacer un programa que lea cuatro datos: El codigo de un estudiante y las notas de los tres previos de una materia cualquiera; y que calcule e imprima la nota final de la materia, junto con el codigo del estudiante."
   ]
  },
  {
   "cell_type": "markdown",
   "metadata": {
    "collapsed": false
   },
   "source": [
    "```\n",
    "codigo para python2\n",
    "\n",
    "\"\"\"Codigo=raw_input (\"Digite su codigo = \")\n",
    "a=float(raw_input(\"Ingrese nota A = \"))\n",
    "b=float(raw_input(\"Ingrese nota B = \"))\n",
    "c=float(raw_input(\"Ingrese nota C = \"))\n",
    "\n",
    "nota=(a+b+c)/3\n",
    "print\"Nota Final = \", nota\"\"\"\n",
    "\n",
    "\n",
    "#en python dos funciona como raw_input pero en python 3 solo con input \n",
    "#en python tres lo que va con el print debe estar entre parentesis asi: print (\"Nota Final=\", nota)\n",
    "#en python tres cuando quiero hacer un comentario de gran tamano lo coloco entre tres comillas \"\"\" ```\n",
    "\n"
   ]
  },
  {
   "cell_type": "code",
   "execution_count": 1,
   "metadata": {
    "collapsed": false
   },
   "outputs": [
    {
     "name": "stdout",
     "output_type": "stream",
     "text": [
      "¿Cómo se llama?\n",
      "Cristo\n",
      "Me alegro de conocerle, Cristo\n"
     ]
    }
   ],
   "source": [
    "#La función input() permite obtener texto escrito por teclado. Al llegar a la función, el programa se detiene esperando \n",
    "#que se escriba algo y se pulse la tecla Intro, como muestra el siguiente ejemplo:\n",
    "\n",
    "print(\"¿Cómo se llama?\")\n",
    "nombre = input()\n",
    "print(\"Me alegro de conocerle,\", nombre)"
   ]
  },
  {
   "cell_type": "code",
   "execution_count": 2,
   "metadata": {
    "collapsed": false
   },
   "outputs": [
    {
     "name": "stdout",
     "output_type": "stream",
     "text": [
      "Dígame una cantidad en dolares: 20000\n",
      "20000 dolares son 56000000 pesos\n"
     ]
    }
   ],
   "source": [
    "#De forma predeterminada, la función input() convierte la entrada en una cadena. Si se quiere que Python interprete la entrada como un número entero, se debe utilizar la función int() de la siguiente manera:\n",
    "\n",
    "cantidad = int(input(\"Dígame una cantidad en dolares: \"))\n",
    "print(cantidad, \"dolares son\", cantidad * 2800, \"pesos\")\n"
   ]
  },
  {
   "cell_type": "code",
   "execution_count": 3,
   "metadata": {
    "collapsed": false
   },
   "outputs": [
    {
     "name": "stdout",
     "output_type": "stream",
     "text": [
      "Digite su codigo = 25\n",
      "Ingrese nota A = 0.1\n",
      "Ingrese nota B = 5.6\n",
      "Ingrese nota C = 7.0\n",
      "Nota Final =  4.233333333333333\n"
     ]
    }
   ],
   "source": [
    "#Codigo para python tres\n",
    "\n",
    "Codigo=input (\"Digite su codigo = \")\n",
    "a=float(input(\"Ingrese nota A = \"))\n",
    "b=float(input(\"Ingrese nota B = \"))\n",
    "c=float(input(\"Ingrese nota C = \"))\n",
    "\n",
    "nota=(a+b+c)/3\n",
    "print(\"Nota Final = \", nota) "
   ]
  },
  {
   "cell_type": "markdown",
   "metadata": {},
   "source": [
    "# ESTRUCTURAS DE CONTROL DE SELECCION"
   ]
  },
  {
   "cell_type": "markdown",
   "metadata": {},
   "source": [
    "# Ejercicio 2."
   ]
  },
  {
   "cell_type": "markdown",
   "metadata": {},
   "source": [
    "Hacer un programa que lea el numero de la cedula y el salario bruto de un empleado, calcule su salario neto sabiendo que si gana mas de 500.000 pesos se le hace un descuento del 10%, de lo contrario solo se le descuenta el 5%.  Se debe imprimir: la cedula, el salario bruto, el descuento y el salario neto."
   ]
  },
  {
   "cell_type": "markdown",
   "metadata": {
    "collapsed": false
   },
   "source": [
    "```\n",
    "codigo para python2\n",
    "\n",
    "\"\"\"cedula=raw_input (\"Digite su cedula = \")\n",
    "salario= float (raw_input(\"Ingrese salario = \"))\n",
    "if salario>500000:\n",
    "    des=salario*0.1\n",
    "else:\n",
    "    des=salario*0.05\n",
    "    salario_neto=salario-des\n",
    "    \n",
    "print \"cedula = \", cedula\n",
    "print \"salario = \", salario\n",
    "print \"Salario neto = \",  salario_neto\n",
    "print \"descuento = \", des \"\"\"\n",
    "\n",
    " #en python dos funciona como raw_input pero en python 3 solo con input \n",
    "#en python tres lo que va con el print debe estar entre parentesis asi: print (\"Nota Final=\", nota)\n",
    "#en python tres cuando quiero hacer un comentario de gran tamano lo coloco entre tres comillas \"\"\"   ```\n",
    "\n"
   ]
  },
  {
   "cell_type": "code",
   "execution_count": 4,
   "metadata": {
    "collapsed": false
   },
   "outputs": [
    {
     "name": "stdout",
     "output_type": "stream",
     "text": [
      "Digite su cedula = 3531466\n",
      "Ingrese salario = 50000\n",
      "cedula =  3531466\n",
      "salario =  50000.0\n",
      "Salario neto =  47500.0\n",
      "descuento =  2500.0\n"
     ]
    }
   ],
   "source": [
    "#codigo para python2\n",
    "\n",
    "cedula=input (\"Digite su cedula = \")\n",
    "salario= float (input(\"Ingrese salario = \"))\n",
    "if salario>500000:\n",
    "    des=salario*0.1\n",
    "else:\n",
    "    des=salario*0.05\n",
    "    salario_neto=salario-des\n",
    "    \n",
    "print (\"cedula = \", cedula) \n",
    "print (\"salario = \", salario) \n",
    "print (\"Salario neto = \",  salario_neto)\n",
    "print (\"descuento = \", des )"
   ]
  },
  {
   "cell_type": "markdown",
   "metadata": {},
   "source": [
    "raw_input es una funcion para la entrada de la informacion que recibe como una cadena de caracteres. El argumento de entrada en la funcion es un comentario que aparece en la pantalla antes del espacio de ingreso de datos.\n",
    "\n",
    "float es una funcion que convierte un numero a decimal."
   ]
  },
  {
   "cell_type": "markdown",
   "metadata": {},
   "source": [
    "## Ejercicio 2.1."
   ]
  },
  {
   "cell_type": "markdown",
   "metadata": {},
   "source": [
    "Leer tres numeros diferentes (a,b,c) y averiguar cual es el mayor"
   ]
  },
  {
   "cell_type": "markdown",
   "metadata": {
    "collapsed": false
   },
   "source": [
    "```\n",
    "codigo para python2\n",
    "#Primera solucion\n",
    "\n",
    "\"\"\"a=0\n",
    "b=0\n",
    "c=0\n",
    "if a>b:\n",
    "    if a>c:\n",
    "        print \"A es el mayor\"\n",
    "elif a<b:\n",
    "    if b>c:\n",
    "        print \"B es el mayor\"\n",
    "else:\n",
    "        print \"C es el mayor\"\"\"\"\n",
    "\n",
    "     #en python dos funciona como raw_input pero en python 3 solo con input \n",
    "#en python tres lo que va con el print debe estar entre parentesis asi: print (\"Nota Final=\", nota)\n",
    "#en python tres cuando quiero hacer un comentario de gran tamano lo coloco entre tres comillas \"\"\"  ``` \n",
    "\n"
   ]
  },
  {
   "cell_type": "code",
   "execution_count": 5,
   "metadata": {
    "collapsed": false
   },
   "outputs": [
    {
     "name": "stdout",
     "output_type": "stream",
     "text": [
      "C es el mayor\n"
     ]
    }
   ],
   "source": [
    "#codigo para python3\n",
    "#Primera solucion\n",
    "\n",
    "a=0\n",
    "b=0\n",
    "c=0\n",
    "if a>b:\n",
    "    if a>c:\n",
    "        print (\"A es el mayor\")\n",
    "elif a<b:\n",
    "    if b>c:\n",
    "        print (\"B es el mayor\")\n",
    "else:\n",
    "        print (\"C es el mayor\")\n",
    "    \n"
   ]
  },
  {
   "cell_type": "markdown",
   "metadata": {
    "collapsed": false
   },
   "source": [
    "```\n",
    "codigo para python2\n",
    "#segunda solucion \n",
    "\n",
    "\"\"\"\"a=1\n",
    "b=4\n",
    "c=0\n",
    "if a>b:\n",
    "    if a>c:\n",
    "        print \"A es el mayor\"\n",
    "elif b>a:\n",
    "    if b>c:\n",
    "        print \"B es el mayor\"\n",
    "else:\n",
    "        print \"C es el mayor\"\"\"\n",
    "\n",
    "#en python dos funciona como raw_input pero en python 3 solo con input \n",
    "#en python tres lo que va con el print debe estar entre parentesis asi: print (\"Nota Final=\", nota)\n",
    "#en python tres cuando quiero hacer un comentario de gran tamano lo coloco entre tres comillas \"\"\"  ```\n"
   ]
  },
  {
   "cell_type": "code",
   "execution_count": 7,
   "metadata": {
    "collapsed": false
   },
   "outputs": [
    {
     "name": "stdout",
     "output_type": "stream",
     "text": [
      "B es el mayor\n"
     ]
    }
   ],
   "source": [
    "#codigo para python3\n",
    "#segunda solucion \n",
    "\n",
    "a=1\n",
    "b=4\n",
    "c=0\n",
    "if a>b:\n",
    "    if a>c:\n",
    "        print (\"A es el mayor\")\n",
    "elif b>a:\n",
    "    if b>c:\n",
    "        print (\"B es el mayor\") \n",
    "else:\n",
    "        print (\"C es el mayor\")\n",
    "        \n",
    "#segunda solucion "
   ]
  },
  {
   "cell_type": "markdown",
   "metadata": {
    "collapsed": false
   },
   "source": [
    "```\n",
    "codigo para python2\n",
    "#tercera solucion\n",
    "\n",
    "\"\"\"a=1\n",
    "b=4\n",
    "c=8\n",
    "if a>b and a>c:\n",
    "    print \"A es mayor\"\n",
    "elif b>a and b>c:\n",
    "    print \"B es mayor\"\n",
    "else: \n",
    "    print \"C es mayor\"\"\"\"\n",
    "\n",
    "#en python dos funciona como raw_input pero en python 3 solo con input \n",
    "#en python tres lo que va con el print debe estar entre parentesis asi: print (\"Nota Final=\", nota)\n",
    "#en python tres cuando quiero hacer un comentario de gran tamano lo coloco entre tres comillas \"\"\"  ```\n"
   ]
  },
  {
   "cell_type": "code",
   "execution_count": 8,
   "metadata": {
    "collapsed": false
   },
   "outputs": [
    {
     "name": "stdout",
     "output_type": "stream",
     "text": [
      "C es mayor\n"
     ]
    }
   ],
   "source": [
    "#codigo para python3\n",
    "#tercera solucion\n",
    "\n",
    "\n",
    "a=1\n",
    "b=4\n",
    "c=8\n",
    "if a>b and a>c:\n",
    "    print (\"A es mayor\")\n",
    "elif b>a and b>c:\n",
    "    print (\"B es mayor\")\n",
    "else: \n",
    "    print(\"C es mayor\") \n",
    "    \n"
   ]
  },
  {
   "cell_type": "markdown",
   "metadata": {
    "collapsed": false
   },
   "source": [
    "'''codigo para python2\n",
    "#cuarta solucion\n",
    "\n",
    "\"\"\"a=0\n",
    "b=0\n",
    "c=0\n",
    "if a>b and a>c:\n",
    "    print \"A es mayor\"\n",
    "elif b>a and b>c:\n",
    "    print \"B es mayor\"\n",
    "elif c!=b and c!=a:\n",
    "    print \"C es mayor \"\n",
    "    \n",
    "else:\n",
    "    print \"Error de datos\"\n",
    "#en particular verfica que todos los numeros son diferentes al hacer !=\n",
    "#cuarta solucion\"\"\"\n",
    "#en python dos funciona como raw_input pero en python 3 solo con input \n",
    "#en python tres lo que va con el print debe estar entre parentesis asi: print (\"Nota Final=\", nota)\n",
    "#en python tres cuando quiero hacer un comentario de gran tamano lo coloco entre tres comillas \"\"\"  "
   ]
  },
  {
   "cell_type": "code",
   "execution_count": 6,
   "metadata": {
    "collapsed": false
   },
   "outputs": [
    {
     "name": "stdout",
     "output_type": "stream",
     "text": [
      "Error de datos\n"
     ]
    }
   ],
   "source": [
    "#codigo para python3\n",
    "#cuarta solucion\n",
    "\n",
    "a=0\n",
    "b=0\n",
    "c=0\n",
    "if a>b and a>c:\n",
    "    print (\"A es mayor\")\n",
    "elif b>a and b>c:\n",
    "    print (\"B es mayor\")\n",
    "elif c!=b and c!=a:\n",
    "    print (\"C es mayor\")\n",
    "    \n",
    "else:\n",
    "    print (\"Error de datos\")\n",
    "    \n",
    "#en particular verfica que todos los numeros son diferentes al hacer !=\n",
    "#cuarta solucion"
   ]
  },
  {
   "cell_type": "markdown",
   "metadata": {},
   "source": [
    "# ESTRUCTURAS DE CONTROL DE REPETICION"
   ]
  },
  {
   "cell_type": "markdown",
   "metadata": {},
   "source": [
    "## Ejercicio 3.\n",
    "\n"
   ]
  },
  {
   "cell_type": "markdown",
   "metadata": {},
   "source": [
    "Leer un capital C y averiguar a cuantos meses se duplica, si lo colocamos a un interes compuesto de cinco por ciento mensual."
   ]
  },
  {
   "cell_type": "markdown",
   "metadata": {},
   "source": [
    "Para hacer la comprobacion matematica del ejercicio debemos usar la **formula para el calculo del interes compuesto** \n",
    "C: capital incial, i:interes, N:periodo en numero de meses, cf:capital final.\n",
    "La formula es **cf=c(1+i)^N**\n",
    "En este caso sabemos que: \n",
    "c=capital ingresado\n",
    "i=5% mensual\n",
    "N:meses (nuestra incognita)\n",
    "cf: el doble de nuestro capital incial 2*C\n"
   ]
  },
  {
   "cell_type": "code",
   "execution_count": null,
   "metadata": {
    "collapsed": false
   },
   "outputs": [
    {
     "name": "stdout",
     "output_type": "stream",
     "text": [
      "Ingrese capital = 83\n"
     ]
    }
   ],
   "source": [
    "c=float(input(\"Ingrese capital = \"))\n",
    "k=2*c\n",
    "n=0\n",
    "i=c*0.05\n",
    "m=c+i\n",
    "\n",
    "while m<k:\n",
    "    m=i+c\n",
    "    n=n+1\n",
    "\n",
    "print(n, \"meses\") \n",
    "    \n"
   ]
  },
  {
   "cell_type": "code",
   "execution_count": 1,
   "metadata": {
    "collapsed": false
   },
   "outputs": [
    {
     "name": "stdout",
     "output_type": "stream",
     "text": [
      "Ingrese capital = 52\n",
      "15 meses\n"
     ]
    }
   ],
   "source": [
    "c=float(input(\"Ingrese capital = \"))\n",
    "k=2*c\n",
    "n=0\n",
    "\n",
    "while c<k:\n",
    "    c= (1.05*c)\n",
    "    n=n+1 \n",
    "print (n, \"meses\")"
   ]
  },
  {
   "cell_type": "code",
   "execution_count": 2,
   "metadata": {
    "collapsed": false
   },
   "outputs": [
    {
     "name": "stdout",
     "output_type": "stream",
     "text": [
      "Ingrese capital = 85\n",
      "1\n"
     ]
    }
   ],
   "source": [
    "c=float(input(\"Ingrese capital = \"))\n",
    "k=2*c\n",
    "n=0\n",
    "i=c*0.05\n",
    "m=c+i\n",
    "\n",
    "if c<k:\n",
    "    c=m\n",
    "    n=n+1\n",
    "    print (n)\n",
    "    "
   ]
  },
  {
   "cell_type": "code",
   "execution_count": 3,
   "metadata": {
    "collapsed": false
   },
   "outputs": [
    {
     "name": "stdout",
     "output_type": "stream",
     "text": [
      "Ingrese capital = 52\n",
      "interes =  2.6\n",
      "meses =  21\n",
      "monto final =  104.0\n"
     ]
    }
   ],
   "source": [
    "c=float(input(\"Ingrese capital = \"))\n",
    "k=2*c\n",
    "n=0\n",
    "i=c*0.05\n",
    "m=c\n",
    "\n",
    "print(\"interes = \", i) \n",
    "while m<k:\n",
    "    m=m+i\n",
    "   \n",
    "    n=n+1\n",
    "print (\"meses = \", n)\n",
    "print(\"monto final = \", k) "
   ]
  },
  {
   "cell_type": "code",
   "execution_count": 5,
   "metadata": {
    "collapsed": false,
    "scrolled": true
   },
   "outputs": [
    {
     "name": "stdout",
     "output_type": "stream",
     "text": [
      "Ingrese capital = 43\n",
      "interes =  3.44\n",
      "N =  0 . 43.0 + 3.44\n",
      "46.44\n",
      "N =  1 . 46.44 + 3.44\n",
      "49.879999999999995\n",
      "N =  2 . 49.879999999999995 + 3.44\n",
      "53.31999999999999\n",
      "N =  3 . 53.31999999999999 + 3.44\n",
      "56.75999999999999\n",
      "N =  4 . 56.75999999999999 + 3.44\n",
      "60.19999999999999\n",
      "N =  5 . 60.19999999999999 + 3.44\n",
      "63.639999999999986\n",
      "N =  6 . 63.639999999999986 + 3.44\n",
      "67.07999999999998\n",
      "N =  7 . 67.07999999999998 + 3.44\n",
      "70.51999999999998\n",
      "N =  8 . 70.51999999999998 + 3.44\n",
      "73.95999999999998\n",
      "N =  9 . 73.95999999999998 + 3.44\n",
      "77.39999999999998\n",
      "N =  10 . 77.39999999999998 + 3.44\n",
      "80.83999999999997\n",
      "N =  11 . 80.83999999999997 + 3.44\n",
      "84.27999999999997\n",
      "N =  12 . 84.27999999999997 + 3.44\n",
      "87.71999999999997\n",
      "13\n"
     ]
    }
   ],
   "source": [
    "c=float(input(\"Ingrese capital = \"))\n",
    "k=2*c\n",
    "n=0\n",
    "i=c*0.08\n",
    "m=c\n",
    "\n",
    "print (\"interes = \", i)\n",
    "while m<k:\n",
    "    print (\"N = \",n,\".\",m,\"+\",i)\n",
    "    m=m+i\n",
    "    print (m)\n",
    "    n=n+1\n",
    "print (n)\n",
    "    \n",
    "#De esta forma se pueden ver los incrementos en el capital, cuando varias el porcentaje de interes varias el periodo N\n",
    "#El periodo N depende del interes no del monto de capital ya que es un porcentaje."
   ]
  },
  {
   "cell_type": "markdown",
   "metadata": {
    "collapsed": true
   },
   "source": [
    "# Ejercicio 3.2."
   ]
  },
  {
   "cell_type": "markdown",
   "metadata": {
    "collapsed": true
   },
   "source": [
    "Una pelota se deja caer desde una altura H y en cada rebote sube un 10% menos que anteriormente.  Leer la altura H, calcular e imprimir en cual rebote la pelota no alcanza a subir la quinta parte de la altura inicial."
   ]
  },
  {
   "cell_type": "code",
   "execution_count": 8,
   "metadata": {
    "collapsed": false
   },
   "outputs": [
    {
     "name": "stdout",
     "output_type": "stream",
     "text": [
      "Ingrese altura = 75\n",
      "0\n"
     ]
    }
   ],
   "source": [
    "\"\"\"h=float(input(\"Ingrese altura = \")) #valor a cambiar introduciendo diversas cantidades\n",
    "k=h/5\n",
    "n=0\n",
    "\n",
    "while h<k:\n",
    "    h=h*0.09\n",
    "    n=n+1\n",
    "print (n)\"\"\"\n"
   ]
  },
  {
   "cell_type": "code",
   "execution_count": 7,
   "metadata": {
    "collapsed": false
   },
   "outputs": [
    {
     "name": "stdout",
     "output_type": "stream",
     "text": [
      "Ingrese altura = 23\n",
      "23.0\n"
     ]
    }
   ],
   "source": [
    "\"\"\"h=float(input(\"Ingrese altura = \")) #valor a cambiar introduciendo diversas cantidades\n",
    "m=h-(0.1*h)\n",
    "k=h/5\n",
    "n=0 #numero de rebotes\n",
    "\n",
    "while m<k:\n",
    "    h=m\n",
    "    n=n+1\n",
    "\n",
    "print (h)\"\"\"\n",
    "    "
   ]
  },
  {
   "cell_type": "markdown",
   "metadata": {},
   "source": [
    "# Ejercicio 3.3."
   ]
  },
  {
   "cell_type": "markdown",
   "metadata": {},
   "source": [
    "En 1980 la ciudad A tenia 3.5 millones de habitantes y una rata de crecimiento de 7% anual y la ciudad B tenia 5 millones y una rata de crecimiento de 5% anual.  Si el crecimiento poblacional se mantiene constante en las dos ciudades calcular en que año la poblacion de la ciudad A es mayor a la de la ciudad B."
   ]
  },
  {
   "cell_type": "code",
   "execution_count": 2,
   "metadata": {
    "collapsed": false
   },
   "outputs": [
    {
     "name": "stdout",
     "output_type": "stream",
     "text": [
      "2017\n"
     ]
    }
   ],
   "source": [
    "n=1980\n",
    "a=3.5\n",
    "b=5\n",
    "\n",
    "while a<=b:\n",
    "    a=1.07*a\n",
    "    b=1.05*b\n",
    "    n=n+1\n",
    "print (n)\n",
    "\n"
   ]
  },
  {
   "cell_type": "code",
   "execution_count": 3,
   "metadata": {
    "collapsed": false
   },
   "outputs": [
    {
     "name": "stdout",
     "output_type": "stream",
     "text": [
      "1983\n"
     ]
    }
   ],
   "source": [
    "#from datetime import datetime, date, time, timedelta\n",
    "#import calendar #biblioteca para importar fechas\n",
    "\n",
    "\n",
    "fecha = 1980\n",
    "a=3.5\n",
    "b=5\n",
    "\n",
    "while a<=b:\n",
    "    fecha=fecha+1\n",
    "    a= (a*0.7)+a\n",
    "    b= (b*0.5)+b\n",
    "print (fecha)\n",
    "\n",
    "\n",
    "#if a=b:\n",
    "    #print (fecha)\n",
    "    \n"
   ]
  },
  {
   "cell_type": "markdown",
   "metadata": {},
   "source": [
    "# REGISTRO CENTINELA"
   ]
  },
  {
   "cell_type": "markdown",
   "metadata": {},
   "source": [
    "Se dice que un ejercicio utiliza el REGISTRO CENTINELA, cuando el ultimo dato de entrada tiene caracteristicas especiales, es decir se diferencia de todos los demas de modo tal que puede ser utilizado para determinar cuando termina el proceso repetitivo que involucra la entrada de datos."
   ]
  },
  {
   "cell_type": "markdown",
   "metadata": {
    "collapsed": true
   },
   "source": [
    "## Ejercicio 4."
   ]
  },
  {
   "cell_type": "markdown",
   "metadata": {},
   "source": [
    "Leer numeros enteros y positivos(uno en cada lectura) y averiguar cuantos son pares y cuantos son impares.  Se usara el registro centinela cuando el valor del numero sea cero."
   ]
  },
  {
   "cell_type": "code",
   "execution_count": 9,
   "metadata": {
    "collapsed": false,
    "scrolled": true
   },
   "outputs": [
    {
     "ename": "SyntaxError",
     "evalue": "invalid syntax (<ipython-input-9-beec9a73046a>, line 6)",
     "output_type": "error",
     "traceback": [
      "\u001b[0;36m  File \u001b[0;32m\"<ipython-input-9-beec9a73046a>\"\u001b[0;36m, line \u001b[0;32m6\u001b[0m\n\u001b[0;31m    if n=int:\u001b[0m\n\u001b[0m        ^\u001b[0m\n\u001b[0;31mSyntaxError\u001b[0m\u001b[0;31m:\u001b[0m invalid syntax\n"
     ]
    }
   ],
   "source": [
    "#n=float(input(\"Ingrese numero = \"))\n",
    "input (\"Ingrese numero=\")\n",
    "a= 0,\"impares\"\n",
    "b= 0, \"pares\"\n",
    "\n",
    "while n>=0:\n",
    "    if n=int:\n",
    "         n/2=int:\n",
    "                b=b+1\n",
    "        else:\n",
    "            a=a+1\n",
    "    print (a)\n",
    "    print (b)\n",
    "        \n",
    "   \"\"\"Introducir numero\n",
    "   si el numero no es entero hacer fin\n",
    "   si el numero no es positivo ose n<0 hacer fin\n",
    "   si n es entero y positivo hacer n/2 =int si es true el resultado es par, entonces contador b=b+1\n",
    "   si es false entonces el numero es impar hacer a=a+1\n",
    "   print a\n",
    "   print b\"\"\"\n",
    "\n",
    "\n",
    "    "
   ]
  },
  {
   "cell_type": "code",
   "execution_count": 4,
   "metadata": {
    "collapsed": false
   },
   "outputs": [
    {
     "name": "stdout",
     "output_type": "stream",
     "text": [
      "Ingrese numero=9\n",
      "9\n"
     ]
    }
   ],
   "source": [
    "a=0, \"impares\"\n",
    "b=0, \"pares\"\n",
    "n=int(input(\"Ingrese numero=\"))\n",
    "print (n)\n",
    "\n",
    "if n>=0:\n",
    "    n=n/2\n",
    "    \n",
    "    "
   ]
  },
  {
   "cell_type": "code",
   "execution_count": 8,
   "metadata": {
    "collapsed": false
   },
   "outputs": [
    {
     "data": {
      "text/plain": [
       "float"
      ]
     },
     "execution_count": 8,
     "metadata": {},
     "output_type": "execute_result"
    }
   ],
   "source": [
    "#para saber si un numero es entero\n",
    "\n",
    "e=23.3\n",
    "type (e)\n",
    "\n",
    "#int nos indica que e es un numero entero\n",
    "#float nos indica que e no es un entero osea que tienen algun punto decimal\n",
    "#str nos indica una cadena como \"hola\"\n",
    "#long tambien indica numeros enteros pero de gran extension\n",
    "\n",
    "   type (n)=int\n",
    "print (n)\n"
   ]
  },
  {
   "cell_type": "code",
   "execution_count": 22,
   "metadata": {
    "collapsed": false
   },
   "outputs": [
    {
     "ename": "SyntaxError",
     "evalue": "invalid syntax (<ipython-input-22-5e9f2c9ff993>, line 2)",
     "output_type": "error",
     "traceback": [
      "\u001b[0;36m  File \u001b[0;32m\"<ipython-input-22-5e9f2c9ff993>\"\u001b[0;36m, line \u001b[0;32m2\u001b[0m\n\u001b[0;31m    if n/2=int:\u001b[0m\n\u001b[0m          ^\u001b[0m\n\u001b[0;31mSyntaxError\u001b[0m\u001b[0;31m:\u001b[0m invalid syntax\n"
     ]
    }
   ],
   "source": [
    "n=input (\"numero\")\n",
    "if n/2=int:\n",
    "    print (true)\n"
   ]
  },
  {
   "cell_type": "code",
   "execution_count": 4,
   "metadata": {
    "collapsed": false
   },
   "outputs": [
    {
     "data": {
      "text/plain": [
       "str"
      ]
     },
     "execution_count": 4,
     "metadata": {},
     "output_type": "execute_result"
    }
   ],
   "source": [
    "#para estar seguro de que tipo es un valor que se introduce\n",
    "\n",
    "type (\"hola\")\n",
    "\n",
    " \"\"\"  \"hola\" es una cadena cuyo resultado es str si fuera 4 seria int y si fuera 2.5 seria float\"\"\" "
   ]
  },
  {
   "cell_type": "markdown",
   "metadata": {},
   "source": [
    "# Ejercicio 4.1."
   ]
  },
  {
   "cell_type": "markdown",
   "metadata": {},
   "source": [
    "Leer un numero entero *n* positivo de cuatro digitos, calcular su inverso.  Imprimirlo junto con el numero leido.  Ejemplo n=1234, entonces su numero inverso es ni=4321."
   ]
  },
  {
   "cell_type": "code",
   "execution_count": null,
   "metadata": {
    "collapsed": true
   },
   "outputs": [],
   "source": [
    "n=float(raw_input(\"Ingrese numero = \"))\n",
    "while n>=0:\n",
    "    \n",
    "    "
   ]
  },
  {
   "cell_type": "markdown",
   "metadata": {},
   "source": [
    "# Ejercico 4.2."
   ]
  },
  {
   "cell_type": "markdown",
   "metadata": {},
   "source": [
    "Leer un numero **n** entero y positivo, de cualquier cantidad de digitos, que calcule la suma de sus digitos y que la imprima junto con el numero leido.\n",
    "Ejemplo: n=53471 entonces la suma de sus digitos es sum=20."
   ]
  },
  {
   "cell_type": "code",
   "execution_count": null,
   "metadata": {
    "collapsed": true
   },
   "outputs": [],
   "source": []
  },
  {
   "cell_type": "markdown",
   "metadata": {},
   "source": [
    "# Ejercicio 4.3."
   ]
  },
  {
   "cell_type": "markdown",
   "metadata": {},
   "source": [
    "Leer un numero entero y positivo de cualquier cantidad de digitos, calcule el numero inverso, imprimirlo junto con el numero leido."
   ]
  },
  {
   "cell_type": "code",
   "execution_count": null,
   "metadata": {
    "collapsed": true
   },
   "outputs": [],
   "source": []
  },
  {
   "cell_type": "markdown",
   "metadata": {},
   "source": [
    "# Ejercicio 4.4."
   ]
  },
  {
   "cell_type": "markdown",
   "metadata": {},
   "source": [
    "El cajero de un banco solo dispone de billetes de 10.000, 2.000 y 100 Su funcion es cambiar los cheques a los clientes, dandoles el menor numero posible de billetes.  Asumiendo que todos los cheques son multiplos de 100, hacer el diagrama y el programa que reciba el valor del cheque a cambiar y que le informe al cajero cuantos billetes de cada denominacion debe entregar.  Como no se sabe cuantos clientes vienen en un dia, el programa debe terminar cuando reciba ceros como valor del cheque y al final "
   ]
  },
  {
   "cell_type": "code",
   "execution_count": null,
   "metadata": {
    "collapsed": true
   },
   "outputs": [],
   "source": []
  },
  {
   "cell_type": "markdown",
   "metadata": {
    "collapsed": true
   },
   "source": [
    "# Ejercicio 4.5."
   ]
  },
  {
   "cell_type": "markdown",
   "metadata": {},
   "source": [
    "Tenemos la informacion de un grupo de estudiantes UIS, no sabemos cuantos. Por cada uno de ellos hay un registro que contiene: El codigo, la edad y el promedio acumulado. El ultimo registro trae grabado ceros en el codigo.  Hacer un programa que imprima el codigo, la edad y el promedio de los estudiantes de Sistemas mayores de 21 años que esten condicionales, tambien debe imprimir al final cuantos son.  Asuma que el codigo de la carrera de sistemas es 11."
   ]
  },
  {
   "cell_type": "code",
   "execution_count": null,
   "metadata": {
    "collapsed": true
   },
   "outputs": [],
   "source": []
  },
  {
   "cell_type": "markdown",
   "metadata": {},
   "source": [
    "# Ejercicio 4.6."
   ]
  },
  {
   "cell_type": "markdown",
   "metadata": {},
   "source": [
    "Leer numeros enteros y positivos (uno en cada lectura) averiguar e imprimir: a)los numeros cuya suma de digitos sea impar y decir cuantos son, b)los numeros que terminen en siete y cuantos son, c)todos los numeros que tengan mas de cuatro digitos.\n",
    "Como no sabemos cuantos numeros se van a procesar, el programa debe tener en cuenta que el ultimo numero leido debe ser cero."
   ]
  },
  {
   "cell_type": "code",
   "execution_count": null,
   "metadata": {
    "collapsed": true
   },
   "outputs": [],
   "source": []
  },
  {
   "cell_type": "markdown",
   "metadata": {},
   "source": [
    "# LA SERIE FIBONACCI"
   ]
  },
  {
   "cell_type": "markdown",
   "metadata": {},
   "source": [
    "Es una secuencia numerica en la cual cada elemento es igual a la suma de los dos anteriores, asi: 0,1,1,2,3,5,8,13,21....etc."
   ]
  },
  {
   "cell_type": "code",
   "execution_count": null,
   "metadata": {
    "collapsed": true
   },
   "outputs": [],
   "source": []
  },
  {
   "cell_type": "markdown",
   "metadata": {},
   "source": [
    "# Ejercicio 5."
   ]
  },
  {
   "cell_type": "markdown",
   "metadata": {},
   "source": [
    "Tomando como variables inciales los dos primeros elementos, a=0 y b=1, hacer el programa que calcule e imprima a partir del tercero, todos los elementos de la serie de Fibonacci que sean menores de mil."
   ]
  },
  {
   "cell_type": "code",
   "execution_count": null,
   "metadata": {
    "collapsed": true
   },
   "outputs": [],
   "source": []
  },
  {
   "cell_type": "markdown",
   "metadata": {},
   "source": [
    "# ESTRUCTURA DE REPETICION PARA"
   ]
  },
  {
   "cell_type": "markdown",
   "metadata": {},
   "source": [
    "Esta estructura se utiliza cuando conocemos de antemano el numero de ciclos que se van a necesitar, para solucionar el problema planteado."
   ]
  },
  {
   "cell_type": "markdown",
   "metadata": {},
   "source": [
    "##  Ejercicio 6."
   ]
  },
  {
   "cell_type": "markdown",
   "metadata": {},
   "source": [
    "Hacer un programa que lea cien numeros enteros (uno en cada lectura) y que averigue e imprima cuantos son pares y cuantos son impares."
   ]
  },
  {
   "cell_type": "code",
   "execution_count": null,
   "metadata": {
    "collapsed": true
   },
   "outputs": [],
   "source": []
  },
  {
   "cell_type": "markdown",
   "metadata": {},
   "source": [
    "## Ejercicio 6.1."
   ]
  },
  {
   "cell_type": "markdown",
   "metadata": {},
   "source": [
    "Averiguar e imprimir cuantos multiplos de siete y cuantos multiplos de nueve hay en los numeros comprendidos entre el 1000 y el 5000."
   ]
  },
  {
   "cell_type": "code",
   "execution_count": null,
   "metadata": {
    "collapsed": true
   },
   "outputs": [],
   "source": []
  },
  {
   "cell_type": "markdown",
   "metadata": {},
   "source": [
    "## Ejercicio 6.2."
   ]
  },
  {
   "cell_type": "markdown",
   "metadata": {},
   "source": [
    "Calcular e imprimir la sumatoria de los primeros veinte terminos de la siguiente serie:\n",
    "1/3, 2/5, 9/7, 64/9, 625/11... etc."
   ]
  },
  {
   "cell_type": "code",
   "execution_count": null,
   "metadata": {
    "collapsed": true
   },
   "outputs": [],
   "source": []
  },
  {
   "cell_type": "markdown",
   "metadata": {},
   "source": [
    "## Ejercicio 6.3."
   ]
  },
  {
   "cell_type": "markdown",
   "metadata": {},
   "source": [
    "Leer un numero entero y positico, calcular su factorial e imprimirlo.\n",
    "Ejemplo: el factorial de cinco= 5! = 5*4*3*2*1 =120.  En general N!= 2*3*4....*N"
   ]
  },
  {
   "cell_type": "code",
   "execution_count": null,
   "metadata": {
    "collapsed": true
   },
   "outputs": [],
   "source": []
  },
  {
   "cell_type": "markdown",
   "metadata": {},
   "source": [
    "# Ejercico 6.4."
   ]
  },
  {
   "cell_type": "markdown",
   "metadata": {},
   "source": [
    "Leer dos numeros enteros y positivos, a y be donde b>a.  Calcular el factorial de los numeros comprendidos entre ellos, incluyendolos e imprimiendolos junto con el numero correspondiente."
   ]
  },
  {
   "cell_type": "code",
   "execution_count": null,
   "metadata": {
    "collapsed": true
   },
   "outputs": [],
   "source": []
  },
  {
   "cell_type": "markdown",
   "metadata": {},
   "source": [
    "## Ejercicio 6.5."
   ]
  },
  {
   "cell_type": "markdown",
   "metadata": {},
   "source": [
    "El numero de las combinaciones de m elementos tomados en grupos de n, esta dado por al formula: c=m!/(n!(m-n)!).  \n",
    "Hacer un programa que lea m y n calculando c e imprimir los tres datos."
   ]
  },
  {
   "cell_type": "code",
   "execution_count": null,
   "metadata": {
    "collapsed": true
   },
   "outputs": [],
   "source": []
  },
  {
   "cell_type": "markdown",
   "metadata": {},
   "source": [
    "## Ejercicio 6.6."
   ]
  },
  {
   "cell_type": "markdown",
   "metadata": {},
   "source": [
    "Leer un numero N, entero y positivo; averiguar e imprimir si es o no un numero Primo."
   ]
  },
  {
   "cell_type": "code",
   "execution_count": null,
   "metadata": {
    "collapsed": true
   },
   "outputs": [],
   "source": []
  },
  {
   "cell_type": "markdown",
   "metadata": {
    "collapsed": true
   },
   "source": [
    "# MANEJO DE ARREGLOS"
   ]
  },
  {
   "cell_type": "markdown",
   "metadata": {
    "collapsed": true
   },
   "source": [
    "## MANEJO DE MATRICES"
   ]
  },
  {
   "cell_type": "markdown",
   "metadata": {
    "collapsed": true
   },
   "source": [
    "## Ejercicio 7."
   ]
  },
  {
   "cell_type": "markdown",
   "metadata": {
    "collapsed": true
   },
   "source": [
    "Una empresa tiene 250 empleados, por cada uno de ellos tenemos un registro que trae grabado dos datos, el nombre del empleado y su correspondiente salario mensual.  Averiguar cuantos empleados ganas mas del promedio salarial de la empresa."
   ]
  },
  {
   "cell_type": "code",
   "execution_count": null,
   "metadata": {
    "collapsed": true
   },
   "outputs": [],
   "source": []
  },
  {
   "cell_type": "markdown",
   "metadata": {},
   "source": [
    "## Ejercicio 7.1."
   ]
  },
  {
   "cell_type": "markdown",
   "metadata": {},
   "source": [
    "Leer un vector A de n elementos, grabados en un solo registro, que averigue en imprima cual es el mayor y en que posicion se encuentra, y cual es el menor y en que posicion se encuentra."
   ]
  },
  {
   "cell_type": "code",
   "execution_count": null,
   "metadata": {
    "collapsed": true
   },
   "outputs": [],
   "source": []
  },
  {
   "cell_type": "markdown",
   "metadata": {},
   "source": [
    "## Ejercicio 7.2."
   ]
  },
  {
   "cell_type": "markdown",
   "metadata": {},
   "source": [
    "En un curso de 70 alumnos, el profesor hace 16 examenes.  Para calcular la nota definitiva se elimina el peor examen.  Por cada alumno tenemos un registro que trae grabajo el codigo del estudiante y las 16 notas.  Calcular la definitiva de cada estudiante e impirmirla junto con el respectivo codigo; informe cuantos perdieron la materia."
   ]
  },
  {
   "cell_type": "code",
   "execution_count": null,
   "metadata": {
    "collapsed": true
   },
   "outputs": [],
   "source": []
  },
  {
   "cell_type": "markdown",
   "metadata": {},
   "source": [
    "# ORDENAMIENTO DE UN VECTOR"
   ]
  },
  {
   "cell_type": "markdown",
   "metadata": {},
   "source": [
    "## Ejercicio 8."
   ]
  },
  {
   "cell_type": "markdown",
   "metadata": {},
   "source": [
    "Leer dos vectores asi: Un vector A de m elementos que contiene el codigo de todos los estudiantes que perdieron calculo I y un vector B de n elementos con codigo de los estudiantes que perdieron Algebra.  Crear un nuevo vector C con el codigo de todos los estudiantes que perdieron las dos materias, ordenarlo de mayor a menor e imprimirlo."
   ]
  },
  {
   "cell_type": "code",
   "execution_count": null,
   "metadata": {
    "collapsed": true
   },
   "outputs": [],
   "source": []
  },
  {
   "cell_type": "markdown",
   "metadata": {
    "collapsed": true
   },
   "source": [
    "## Ejercicio 8.1."
   ]
  },
  {
   "cell_type": "markdown",
   "metadata": {
    "collapsed": true
   },
   "source": [
    "Leer un vector A de n elementos.  Dichos elementos pueden ser de cualquier clase de caracter.  Asuma que el vector tiene muchos elementos repetidos.  El programa debe crear e imprimir un nuevo vector B que contenga todos los elementos de A, sin que haya repetidos.  Por ejemplo, si el elemento x aparece cinco veces en el vecror A, debe aparecer una sola vez en el vector B."
   ]
  },
  {
   "cell_type": "code",
   "execution_count": null,
   "metadata": {
    "collapsed": true
   },
   "outputs": [],
   "source": []
  },
  {
   "cell_type": "markdown",
   "metadata": {
    "collapsed": true
   },
   "source": [
    "## Ejercicio 8.2."
   ]
  },
  {
   "cell_type": "markdown",
   "metadata": {
    "collapsed": true
   },
   "source": [
    "En un curso de 70 alumnos la nota definitiva se calcula asi: la nota de examenes vale el 10%, el primer previo vale el 20%, el segundo previo vale el 30% y el tercer previo vale el 40%.  Por cada estudiante hay un registro que trae grabados cinco datos: El codigo del estudiante, y las cuatro notas en el orden antes descrito. Calcular la nota definitiva de cada alumno e imprimir en forma ordenada de mayor a menor, junto con el respectivo codigo."
   ]
  },
  {
   "cell_type": "code",
   "execution_count": null,
   "metadata": {
    "collapsed": true
   },
   "outputs": [],
   "source": []
  },
  {
   "cell_type": "markdown",
   "metadata": {
    "collapsed": true
   },
   "source": [
    "# TRATAMIENTO DE IMAGENES"
   ]
  },
  {
   "cell_type": "code",
   "execution_count": 1,
   "metadata": {
    "collapsed": false
   },
   "outputs": [],
   "source": [
    "import numpy as np\n",
    "import skimage\n",
    "from matplotlib import pyplot as plt\n",
    "from IPython.display import Image\n",
    "\n",
    "#sudo apt-get install python-opencv para python 3 (tenemos que instalar antes de trabajar el notebook)\n",
    "#pip install -U scikit-image (instalar este programa)\n",
    "\n",
    "\n"
   ]
  },
  {
   "cell_type": "markdown",
   "metadata": {},
   "source": [
    "Para Python2\n",
    "\n",
    "#La libreria a importar es cv2 para python3 es skimage\n",
    "#sudo apt-get install build-essential (python2)\n",
    "#sudo apt-get install cmake git libgtk2.0-dev pkg-config libavcodec-dev libavformat-dev libswscale-dev (python2)\n",
    "#sudo apt-get install python-dev python-numpy libtbb2 libtbb-dev libjpeg-dev libpng-dev libtiff-dev libjasper-dev libdc1394-22-dev\n",
    "\n",
    "```python\n",
    "import numpy as np\n",
    "import cv2\n",
    "from matplotlib import pyplot as plt\n",
    "from IPython.display import Image```\n"
   ]
  },
  {
   "cell_type": "code",
   "execution_count": 2,
   "metadata": {
    "collapsed": false
   },
   "outputs": [
    {
     "data": {
      "image/jpeg": "[encoded data removed]",
      "text/plain": [
       "<IPython.core.display.Image object>"
      ]
     },
     "execution_count": 2,
     "metadata": {
      "image/jpeg": {
       "height": 400,
       "width": 500
      }
     },
     "output_type": "execute_result"
    }
   ],
   "source": [
    "Image(filename='nave.jpg',height=400,width=500)\n",
    "\n",
    "#Es preferible que tengamos la imagen en la misma carpeta del notebook y que no lo cambiemos de posicion porque cambia la direccion, los tamanos de la imagen se busca que sean propiorcionales\n",
    "\n",
    "#http://scikit-image.org/docs/stable/user_guide/getting_started.html (pagina con documentacion de la libreria de imagenes)\n",
    "    "
   ]
  },
  {
   "cell_type": "code",
   "execution_count": null,
   "metadata": {
    "collapsed": true
   },
   "outputs": [],
   "source": [
    "#La mayoría de las funciones de skimage se encuentran dentro de los submódulos:\n",
    "\n",
    "import skimage  #importa el paquete de python3 para imagenes\n",
    "from skimage import data\n",
    "camera = data.camera()\n",
    "\n",
    "#https://numython.github.io/posts/2016/01/introduccion-scikit-image-procesamiento/ \n"
   ]
  },
  {
   "cell_type": "markdown",
   "metadata": {},
   "source": [
    "Para Python2 almacenamos en una variable la imagen a trabajar,  esto se hace usando la funcion imread de cv2 a la cual se le pasa la \n",
    "direccion de la imagen con un parametro 1 para cargar la imagen normal 0 para escala de grises\n",
    "\n",
    "```img = cv2.imread('Paisaje.jpg',1)#normal\n",
    "img2 = cv2.imread('Paisaje.jpg',0)#escala de grises\n",
    "print img.shape\n",
    "print img2.shape```\n"
   ]
  },
  {
   "cell_type": "markdown",
   "metadata": {
    "collapsed": true
   },
   "source": [
    "\n",
    "```python\n",
    "from sklearn.datasets import load_iris\n",
    "from sklearn import tree\n",
    "iris = load_iris()\n",
    "clf = tree.DecisionTreeClassifier()\n",
    "clf = clf.fit(iris.data, iris.target)\n",
    "print(clf.predict_proba(iris.data[:1, :]))\n",
    "```\n",
    "Se usa para poder poner codigo como comentario.... (lo que aparece a continuacion es un ejemplo) primero se ponen tres tildes despues la palabra python y despues se cierra con tres tildes"
   ]
  },
  {
   "cell_type": "code",
   "execution_count": 1,
   "metadata": {
    "collapsed": false
   },
   "outputs": [
    {
     "ename": "NameError",
     "evalue": "name 'img' is not defined",
     "output_type": "error",
     "traceback": [
      "\u001b[0;31m---------------------------------------------------------------------------\u001b[0m",
      "\u001b[0;31mNameError\u001b[0m                                 Traceback (most recent call last)",
      "\u001b[0;32m<ipython-input-1-58edfb2c6cd7>\u001b[0m in \u001b[0;36m<module>\u001b[0;34m()\u001b[0m\n\u001b[1;32m      2\u001b[0m \u001b[0;31m#número de filas, columnas y capas de la matriz.\u001b[0m\u001b[0;34m\u001b[0m\u001b[0;34m\u001b[0m\u001b[0m\n\u001b[1;32m      3\u001b[0m \u001b[0;34m\u001b[0m\u001b[0m\n\u001b[0;32m----> 4\u001b[0;31m \u001b[0mprint\u001b[0m \u001b[0;34m(\u001b[0m\u001b[0mimg\u001b[0m\u001b[0;34m.\u001b[0m\u001b[0mshape\u001b[0m\u001b[0;34m)\u001b[0m\u001b[0;34m\u001b[0m\u001b[0m\n\u001b[0m",
      "\u001b[0;31mNameError\u001b[0m: name 'img' is not defined"
     ]
    }
   ],
   "source": [
    "#Podemos averiguar la forma o cantidad de elementos del array img utilizando el método shape, por ejemplo en el script anterior se puede añadir:\n",
    "#número de filas, columnas y capas de la matriz.\n",
    "\n",
    "print (img.shape)"
   ]
  },
  {
   "cell_type": "markdown",
   "metadata": {},
   "source": [
    "Para convertir nuestra matriz RGB de entrada en una matriz de intensidades en escala de grises importamos el módulo color y a utilizar la función rgb2gray:"
   ]
  },
  {
   "cell_type": "code",
   "execution_count": null,
   "metadata": {
    "collapsed": false
   },
   "outputs": [],
   "source": [
    "from skimage import io,color #importar modulo color\n",
    "\n",
    "img = io.imread(\"nave.jpg\")\n",
    "img_gris = color.rgb2gray(img)\n",
    "io.imshow(img_gris)\n",
    "io.show()"
   ]
  },
  {
   "cell_type": "markdown",
   "metadata": {
    "collapsed": true
   },
   "source": [
    "Para mostrar la imagen en color y en grises usamos la función subplot de Matplotlib:\n",
    "    #El paquete  Matplotlib debemos instalarlo\n"
   ]
  },
  {
   "cell_type": "code",
   "execution_count": null,
   "metadata": {
    "collapsed": false
   },
   "outputs": [],
   "source": [
    "import matplotlib.pyplot as plt\n",
    "from skimage import io,color\n",
    "\n",
    "img = io.imread(\"nave.jpg\")\n",
    "img_gris = color.rgb2gray(img)\n",
    "plt.subplot(211)\n",
    "io.imshow(img)\n",
    "plt.subplot(212)\n",
    "io.imshow(img_gris)\n",
    "io.show()"
   ]
  },
  {
   "cell_type": "markdown",
   "metadata": {},
   "source": [
    "# visualisacion de intensidad de cada canal de la imagen"
   ]
  },
  {
   "cell_type": "markdown",
   "metadata": {
    "collapsed": false
   },
   "source": [
    "'''\n",
    "Para python2\n",
    "img1=np.uint8(np.dot(img[...,:3], [.0, .0, 1])) #Si queremos solo la infromacion de un canal\n",
    "img2=np.uint8(np.dot(img[...,:3], [.0, 1, .0])) #Si queremos solo la infromacion de un canal\n",
    "img3=np.uint8(np.dot(img[...,:3], [1, .0, .0])) #Si queremos solo la infromacion de un canal\n",
    "img4=np.uint8(np.dot(img[...,:3], [0.114, 0.587, 0.299])) # esta multiplicacion convierte la imagen a escala de grises, segun un'''"
   ]
  },
  {
   "cell_type": "code",
   "execution_count": 7,
   "metadata": {
    "collapsed": false
   },
   "outputs": [
    {
     "ename": "NameError",
     "evalue": "name 'np' is not defined",
     "output_type": "error",
     "traceback": [
      "\u001b[0;31m---------------------------------------------------------------------------\u001b[0m",
      "\u001b[0;31mNameError\u001b[0m                                 Traceback (most recent call last)",
      "\u001b[0;32m<ipython-input-7-b1014fe934ae>\u001b[0m in \u001b[0;36m<module>\u001b[0;34m()\u001b[0m\n\u001b[0;32m----> 1\u001b[0;31m \u001b[0mimg\u001b[0m\u001b[0;34m=\u001b[0m\u001b[0mnp\u001b[0m\u001b[0;34m.\u001b[0m\u001b[0muint8\u001b[0m\u001b[0;34m(\u001b[0m\u001b[0mnp\u001b[0m\u001b[0;34m.\u001b[0m\u001b[0mdot\u001b[0m\u001b[0;34m(\u001b[0m\u001b[0mimg\u001b[0m\u001b[0;34m[\u001b[0m\u001b[0;34m...\u001b[0m\u001b[0;34m,\u001b[0m\u001b[0;34m:\u001b[0m\u001b[0;36m3\u001b[0m\u001b[0;34m]\u001b[0m\u001b[0;34m,\u001b[0m\u001b[0;34m[\u001b[0m\u001b[0;36m.0\u001b[0m\u001b[0;34m,\u001b[0m\u001b[0;36m.0\u001b[0m\u001b[0;34m,\u001b[0m \u001b[0;36m1\u001b[0m\u001b[0;34m]\u001b[0m\u001b[0;34m)\u001b[0m\u001b[0;34m)\u001b[0m\u001b[0;34m\u001b[0m\u001b[0m\n\u001b[0m",
      "\u001b[0;31mNameError\u001b[0m: name 'np' is not defined"
     ]
    }
   ],
   "source": [
    "img=np.uint8(np.dot(img[...,:3],[.0,.0, 1]))"
   ]
  },
  {
   "cell_type": "markdown",
   "metadata": {
    "collapsed": true
   },
   "source": [
    "'''\n",
    "Para Python 2\n",
    "cv2.imshow('imagen',img) #mostramos la imagen, como parametros titulo y la variable donde cargamos la imagen anteriormente\n",
    "cv2.waitKey(0) # tiempo en ms que mostrara la imagen, si su valor es 0 esperara a que orpimamos una tecla\n",
    "cv2.destroyAllWindows() # cerrara todas las imagenes mostradas'''"
   ]
  },
  {
   "cell_type": "code",
   "execution_count": null,
   "metadata": {
    "collapsed": false
   },
   "outputs": [],
   "source": [
    "import matplotlib.pyplot as plt\n",
    "from skimage import io,color\n",
    "\n",
    "io.imshow(img) #mostramos la imagen, como parametros titulo y la variable donde cargamos la imagen anteriormente\n",
    "io.waitkey(0)# tiempo en ms que mostrara la imagen, si su valor es 0 esperara a que orpimamos una tecla\n",
    "io.destroyAllWindows# cerrara todas las imagenes mostradas"
   ]
  },
  {
   "cell_type": "markdown",
   "metadata": {
    "collapsed": true
   },
   "source": [
    "# Threshold\n",
    "Cuando hablamos de Thresholding hacemos referencia a los métodos o algorítmos de valor umbral (umbralización), cuya finalidad es segmentar objetos de una imagen que nos interesan del resto. En las situaciones más sencillas se puede decidir que píxeles conforman los objetos que buscamos y que píxeles son sólo el entorno de estos objetos.\n",
    "\n",
    "Algorítmos básicos:\n",
    "- Binary Thresholding\n",
    "- Inverse Binary Thresholding\n",
    "- Truncate Thresholding\n",
    "- Threshold to zero\n",
    "- Inverted Threshold to Zero\n",
    "- Thresholding RGB\n",
    "\n",
    "## Metodo de la libreria"
   ]
  },
  {
   "cell_type": "code",
   "execution_count": null,
   "metadata": {
    "collapsed": true
   },
   "outputs": [],
   "source": [
    "from skimage import io #Primero importamos el modulo correspondiente\n",
    "img1 = io.imread('exploradores.jpg',0)  #utilizamos la función imread del módulo io para leer la imagen, y guardamos esto en una variable, en la cual se almacenará un array de NumPy con la información de los colores que componen la imagen.\n",
    "f,c=img1.shape\n",
    "img2=np.zeros((f,c))\n",
    "maxValue=255\n",
    "thresh=125\n",
    "th,img3=io.threshold(img1,thresh,maxValue,io,THRESH_BINAR);\n"
   ]
  },
  {
   "cell_type": "code",
   "execution_count": null,
   "metadata": {
    "collapsed": false
   },
   "outputs": [],
   "source": [
    "\n"
   ]
  },
  {
   "cell_type": "code",
   "execution_count": 2,
   "metadata": {
    "collapsed": false
   },
   "outputs": [
    {
     "ename": "NameError",
     "evalue": "name 'image' is not defined",
     "output_type": "error",
     "traceback": [
      "\u001b[0;31m---------------------------------------------------------------------------\u001b[0m",
      "\u001b[0;31mNameError\u001b[0m                                 Traceback (most recent call last)",
      "\u001b[0;32m<ipython-input-2-3a50d8921201>\u001b[0m in \u001b[0;36m<module>\u001b[0;34m()\u001b[0m\n\u001b[0;32m----> 1\u001b[0;31m \u001b[0mimage\u001b[0m\u001b[0;34m(\u001b[0m\u001b[0mfilename\u001b[0m\u001b[0;34m=\u001b[0m\u001b[0;34m'exploradores'\u001b[0m\u001b[0;34m,\u001b[0m\u001b[0mheight\u001b[0m\u001b[0;34m=\u001b[0m\u001b[0;36m400\u001b[0m\u001b[0;34m,\u001b[0m\u001b[0mwidth\u001b[0m\u001b[0;34m=\u001b[0m\u001b[0;36m500\u001b[0m\u001b[0;34m)\u001b[0m\u001b[0;34m\u001b[0m\u001b[0m\n\u001b[0m",
      "\u001b[0;31mNameError\u001b[0m: name 'image' is not defined"
     ]
    }
   ],
   "source": [
    "image(filename='exploradores',height=400,width=500)"
   ]
  },
  {
   "cell_type": "code",
   "execution_count": null,
   "metadata": {
    "collapsed": true
   },
   "outputs": [],
   "source": [
    "\n"
   ]
  },
  {
   "cell_type": "code",
   "execution_count": null,
   "metadata": {
    "collapsed": true
   },
   "outputs": [],
   "source": [
    "cv2.imshow('imagen',img8) #mostramos la imagen, como parametros titulo y la variable donde cargamos la imagen anteriormente\n",
    "cv2.waitKey(0) # tiempo en ms que mostrara la imagen, si su valor es 0 esperara a que orpimamos una tecla\n",
    "cv2.destroyAllWindows() # cerrara todas las imagenes mostradas\n"
   ]
  }
 ],
 "metadata": {
  "anaconda-cloud": {},
  "kernelspec": {
   "display_name": "Python 3",
   "language": "python",
   "name": "python3"
  },
  "language_info": {
   "codemirror_mode": {
    "name": "ipython",
    "version": 3
   },
   "file_extension": ".py",
   "mimetype": "text/x-python",
   "name": "python",
   "nbconvert_exporter": "python",
   "pygments_lexer": "ipython3",
   "version": "3.6.0"
  }
 },
 "nbformat": 4,
 "nbformat_minor": 1
}
